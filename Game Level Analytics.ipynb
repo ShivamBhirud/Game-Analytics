{
 "cells": [
  {
   "cell_type": "code",
   "execution_count": 1,
   "metadata": {},
   "outputs": [
    {
     "data": {
      "text/html": [
       "<div>\n",
       "<style scoped>\n",
       "    .dataframe tbody tr th:only-of-type {\n",
       "        vertical-align: middle;\n",
       "    }\n",
       "\n",
       "    .dataframe tbody tr th {\n",
       "        vertical-align: top;\n",
       "    }\n",
       "\n",
       "    .dataframe thead th {\n",
       "        text-align: right;\n",
       "    }\n",
       "</style>\n",
       "<table border=\"1\" class=\"dataframe\">\n",
       "  <thead>\n",
       "    <tr style=\"text-align: right;\">\n",
       "      <th></th>\n",
       "      <th>event_datetime</th>\n",
       "      <th>player_id</th>\n",
       "      <th>level_number</th>\n",
       "      <th>status</th>\n",
       "      <th>session_id</th>\n",
       "    </tr>\n",
       "  </thead>\n",
       "  <tbody>\n",
       "    <tr>\n",
       "      <th>0</th>\n",
       "      <td>2020-11-28 21:00:24.958000</td>\n",
       "      <td>00020eac3d7e4f058b87eac1a9a85c25</td>\n",
       "      <td>6</td>\n",
       "      <td>complete</td>\n",
       "      <td>6ddf006b807e451eb4706d6d98a049b6</td>\n",
       "    </tr>\n",
       "    <tr>\n",
       "      <th>1</th>\n",
       "      <td>2020-11-27 22:03:03.048000</td>\n",
       "      <td>00020eac3d7e4f058b87eac1a9a85c25</td>\n",
       "      <td>2</td>\n",
       "      <td>start</td>\n",
       "      <td>3ba98db705f2aa0bc406441a61c23b3c</td>\n",
       "    </tr>\n",
       "    <tr>\n",
       "      <th>2</th>\n",
       "      <td>2020-11-26 14:53:09.344000</td>\n",
       "      <td>002188c0bc476f356f4c3b74e5cc66c8</td>\n",
       "      <td>1</td>\n",
       "      <td>start</td>\n",
       "      <td>25cf292a8f1d3da01df8371276502edf</td>\n",
       "    </tr>\n",
       "    <tr>\n",
       "      <th>3</th>\n",
       "      <td>2020-12-03 11:43:26.582000</td>\n",
       "      <td>00576ef3617e6bbbabfa0b1090e4122d</td>\n",
       "      <td>1</td>\n",
       "      <td>start</td>\n",
       "      <td>21fd6a7db53a9220574563ac8a8c8b58</td>\n",
       "    </tr>\n",
       "    <tr>\n",
       "      <th>4</th>\n",
       "      <td>2020-12-04 14:23:07.448000</td>\n",
       "      <td>00576ef3617e6bbbabfa0b1090e4122d</td>\n",
       "      <td>7</td>\n",
       "      <td>start</td>\n",
       "      <td>358b9ab5c1c0f08bc7def310411eb90f</td>\n",
       "    </tr>\n",
       "    <tr>\n",
       "      <th>5</th>\n",
       "      <td>2020-12-02 20:11:40.721000</td>\n",
       "      <td>004b7862e44e970d3f1ed9d53dc5e03e</td>\n",
       "      <td>9</td>\n",
       "      <td>start</td>\n",
       "      <td>23d421f1f25256618be93ad9e6d85f62</td>\n",
       "    </tr>\n",
       "    <tr>\n",
       "      <th>6</th>\n",
       "      <td>2020-11-25 18:41:54.555000</td>\n",
       "      <td>005408c722a113f529a8ae46f97df6a5</td>\n",
       "      <td>0</td>\n",
       "      <td>complete</td>\n",
       "      <td>d89440e94ac880387d6029d3a9868297</td>\n",
       "    </tr>\n",
       "    <tr>\n",
       "      <th>7</th>\n",
       "      <td>2020-11-25 19:33:24.458000</td>\n",
       "      <td>005408c722a113f529a8ae46f97df6a5</td>\n",
       "      <td>5</td>\n",
       "      <td>start</td>\n",
       "      <td>f7ca1989a08f2a2143cc68f64a68cbfa</td>\n",
       "    </tr>\n",
       "    <tr>\n",
       "      <th>8</th>\n",
       "      <td>2020-12-08 15:57:24.864000</td>\n",
       "      <td>0089666ada6b828781c18f9f99818aca</td>\n",
       "      <td>1</td>\n",
       "      <td>start</td>\n",
       "      <td>8726481d5da6de58a6be5fed2513f522</td>\n",
       "    </tr>\n",
       "    <tr>\n",
       "      <th>9</th>\n",
       "      <td>2020-11-26 19:11:28.495000</td>\n",
       "      <td>005b6796340da5b9fe70dd03979bd482</td>\n",
       "      <td>5</td>\n",
       "      <td>start</td>\n",
       "      <td>eba86abcccafab956de25b52dbe1a773</td>\n",
       "    </tr>\n",
       "  </tbody>\n",
       "</table>\n",
       "</div>"
      ],
      "text/plain": [
       "               event_datetime                         player_id  level_number  \\\n",
       "0  2020-11-28 21:00:24.958000  00020eac3d7e4f058b87eac1a9a85c25             6   \n",
       "1  2020-11-27 22:03:03.048000  00020eac3d7e4f058b87eac1a9a85c25             2   \n",
       "2  2020-11-26 14:53:09.344000  002188c0bc476f356f4c3b74e5cc66c8             1   \n",
       "3  2020-12-03 11:43:26.582000  00576ef3617e6bbbabfa0b1090e4122d             1   \n",
       "4  2020-12-04 14:23:07.448000  00576ef3617e6bbbabfa0b1090e4122d             7   \n",
       "5  2020-12-02 20:11:40.721000  004b7862e44e970d3f1ed9d53dc5e03e             9   \n",
       "6  2020-11-25 18:41:54.555000  005408c722a113f529a8ae46f97df6a5             0   \n",
       "7  2020-11-25 19:33:24.458000  005408c722a113f529a8ae46f97df6a5             5   \n",
       "8  2020-12-08 15:57:24.864000  0089666ada6b828781c18f9f99818aca             1   \n",
       "9  2020-11-26 19:11:28.495000  005b6796340da5b9fe70dd03979bd482             5   \n",
       "\n",
       "     status                        session_id  \n",
       "0  complete  6ddf006b807e451eb4706d6d98a049b6  \n",
       "1     start  3ba98db705f2aa0bc406441a61c23b3c  \n",
       "2     start  25cf292a8f1d3da01df8371276502edf  \n",
       "3     start  21fd6a7db53a9220574563ac8a8c8b58  \n",
       "4     start  358b9ab5c1c0f08bc7def310411eb90f  \n",
       "5     start  23d421f1f25256618be93ad9e6d85f62  \n",
       "6  complete  d89440e94ac880387d6029d3a9868297  \n",
       "7     start  f7ca1989a08f2a2143cc68f64a68cbfa  \n",
       "8     start  8726481d5da6de58a6be5fed2513f522  \n",
       "9     start  eba86abcccafab956de25b52dbe1a773  "
      ]
     },
     "execution_count": 1,
     "metadata": {},
     "output_type": "execute_result"
    }
   ],
   "source": [
    "import pandas as pd\n",
    "\n",
    "\n",
    "df = pd.read_csv('level_progress.csv')\n",
    "df.head(10)"
   ]
  },
  {
   "cell_type": "markdown",
   "metadata": {},
   "source": [
    "## Check for Distinct and Null values"
   ]
  },
  {
   "cell_type": "code",
   "execution_count": 2,
   "metadata": {},
   "outputs": [
    {
     "name": "stdout",
     "output_type": "stream",
     "text": [
      "Distinct levels are:\n",
      " [0, 1, 2, 3, 4, 5, 6, 7, 8, 9, 10, 11, 12, 13, 14, 15, 16, 17, 18, 19, 20, 21, 22, 23, 24, 25, 26, 27, 28, 29, 30, 31, 32, 33, 34, 35, 36, 37, 38, 39, 40, 41, 42, 43, 44, 45, 46, 47, 48, 49]\n",
      "\n",
      "Distinct Status are:\n",
      " ['complete', 'fail', 'start']\n",
      "\n",
      " Check if any Null values are present:\n",
      " False\n"
     ]
    }
   ],
   "source": [
    "print('Distinct levels are:\\n', sorted(df['level_number'].unique())) # Unique levels\n",
    "print('\\nDistinct Status are:\\n', sorted(df['status'].unique())) # Unique status\n",
    "print('\\n Check if any Null values are present:\\n', df.isnull().values.any()) # check if any null in the data"
   ]
  },
  {
   "cell_type": "markdown",
   "metadata": {},
   "source": [
    "## Pull only the rows containing Fail as the status."
   ]
  },
  {
   "cell_type": "code",
   "execution_count": 3,
   "metadata": {},
   "outputs": [
    {
     "name": "stdout",
     "output_type": "stream",
     "text": [
      "Length of the Dataset is:  55826\n",
      "Total number of rows having status as fail:  4146\n"
     ]
    },
    {
     "data": {
      "text/html": [
       "<div>\n",
       "<style scoped>\n",
       "    .dataframe tbody tr th:only-of-type {\n",
       "        vertical-align: middle;\n",
       "    }\n",
       "\n",
       "    .dataframe tbody tr th {\n",
       "        vertical-align: top;\n",
       "    }\n",
       "\n",
       "    .dataframe thead th {\n",
       "        text-align: right;\n",
       "    }\n",
       "</style>\n",
       "<table border=\"1\" class=\"dataframe\">\n",
       "  <thead>\n",
       "    <tr style=\"text-align: right;\">\n",
       "      <th></th>\n",
       "      <th>event_datetime</th>\n",
       "      <th>player_id</th>\n",
       "      <th>level_number</th>\n",
       "      <th>status</th>\n",
       "      <th>session_id</th>\n",
       "    </tr>\n",
       "  </thead>\n",
       "  <tbody>\n",
       "    <tr>\n",
       "      <th>37</th>\n",
       "      <td>2020-11-18 09:10:58.541000</td>\n",
       "      <td>000948918c5ed8e1dd02e3c8fcbcae8e</td>\n",
       "      <td>4</td>\n",
       "      <td>fail</td>\n",
       "      <td>d2ccda83d3df92b31d37189e1b2a078b</td>\n",
       "    </tr>\n",
       "    <tr>\n",
       "      <th>47</th>\n",
       "      <td>2020-11-22 16:28:43.209000</td>\n",
       "      <td>005fde66a4f93e41b628fa76290fff6b</td>\n",
       "      <td>3</td>\n",
       "      <td>fail</td>\n",
       "      <td>8e365c77bb39dddcd2860c3ed9f36c71</td>\n",
       "    </tr>\n",
       "    <tr>\n",
       "      <th>57</th>\n",
       "      <td>2020-11-21 06:55:10.842000</td>\n",
       "      <td>00b3c8d004f34341f938ce84bedc6cdd</td>\n",
       "      <td>4</td>\n",
       "      <td>fail</td>\n",
       "      <td>79038897ae864fdeaf4263b1abd129e2</td>\n",
       "    </tr>\n",
       "    <tr>\n",
       "      <th>71</th>\n",
       "      <td>2020-11-20 21:30:34.097000</td>\n",
       "      <td>0094f5714dd17f0f0f3f45b9cd40ed23</td>\n",
       "      <td>8</td>\n",
       "      <td>fail</td>\n",
       "      <td>bad109a7bdb5a2607093daefdd72e722</td>\n",
       "    </tr>\n",
       "    <tr>\n",
       "      <th>76</th>\n",
       "      <td>2020-11-22 09:24:38.748000</td>\n",
       "      <td>0035ff83e7e08d77a7808bd150147927</td>\n",
       "      <td>4</td>\n",
       "      <td>fail</td>\n",
       "      <td>547e380d14c18fd714e0d3b0999c6a77</td>\n",
       "    </tr>\n",
       "  </tbody>\n",
       "</table>\n",
       "</div>"
      ],
      "text/plain": [
       "                event_datetime                         player_id  \\\n",
       "37  2020-11-18 09:10:58.541000  000948918c5ed8e1dd02e3c8fcbcae8e   \n",
       "47  2020-11-22 16:28:43.209000  005fde66a4f93e41b628fa76290fff6b   \n",
       "57  2020-11-21 06:55:10.842000  00b3c8d004f34341f938ce84bedc6cdd   \n",
       "71  2020-11-20 21:30:34.097000  0094f5714dd17f0f0f3f45b9cd40ed23   \n",
       "76  2020-11-22 09:24:38.748000  0035ff83e7e08d77a7808bd150147927   \n",
       "\n",
       "    level_number status                        session_id  \n",
       "37             4   fail  d2ccda83d3df92b31d37189e1b2a078b  \n",
       "47             3   fail  8e365c77bb39dddcd2860c3ed9f36c71  \n",
       "57             4   fail  79038897ae864fdeaf4263b1abd129e2  \n",
       "71             8   fail  bad109a7bdb5a2607093daefdd72e722  \n",
       "76             4   fail  547e380d14c18fd714e0d3b0999c6a77  "
      ]
     },
     "execution_count": 3,
     "metadata": {},
     "output_type": "execute_result"
    }
   ],
   "source": [
    "print('Length of the Dataset is: ', len(df))\n",
    "level_fail = df[df['status'] == 'fail']\n",
    "print('Total number of rows having status as fail: ', len(level_fail))\n",
    "level_fail.head()"
   ]
  },
  {
   "cell_type": "code",
   "execution_count": 4,
   "metadata": {},
   "outputs": [
    {
     "name": "stdout",
     "output_type": "stream",
     "text": [
      "\n",
      "Distinct levels at which players failed:\n",
      " [0, 1, 2, 3, 4, 5, 6, 7, 8, 9, 10, 11, 12, 13, 14, 15, 16, 17, 18, 19, 20, 21, 22, 23, 24, 25, 26, 27, 28, 29, 30, 31, 32, 33, 35, 37, 38, 39, 42, 44]\n"
     ]
    }
   ],
   "source": [
    "print('\\nDistinct levels at which players failed:\\n',\n",
    "      sorted(level_fail['level_number'].unique()))"
   ]
  },
  {
   "cell_type": "code",
   "execution_count": 5,
   "metadata": {},
   "outputs": [
    {
     "name": "stdout",
     "output_type": "stream",
     "text": [
      "As per Basic analysis using mode calculation, most of the users fail at Level:  [3]\n"
     ]
    }
   ],
   "source": [
    "print('As per Basic analysis using mode calculation, most of the users fail at Level: ',\n",
    "      level_fail['level_number'].mode().values)"
   ]
  },
  {
   "cell_type": "code",
   "execution_count": 6,
   "metadata": {},
   "outputs": [
    {
     "name": "stdout",
     "output_type": "stream",
     "text": [
      "3     865\n",
      "5     537\n",
      "4     475\n",
      "6     400\n",
      "8     255\n",
      "7     255\n",
      "9     157\n",
      "11    147\n",
      "10    127\n",
      "13    111\n",
      "12    109\n",
      "14    105\n",
      "2      91\n",
      "17     56\n",
      "16     55\n",
      "15     53\n",
      "23     39\n",
      "19     39\n",
      "0      37\n",
      "22     37\n",
      "18     36\n",
      "20     21\n",
      "1      20\n",
      "21     18\n",
      "26     15\n",
      "24     11\n",
      "25     10\n",
      "29     10\n",
      "27      9\n",
      "32      9\n",
      "28      9\n",
      "30      7\n",
      "31      6\n",
      "33      5\n",
      "35      3\n",
      "42      2\n",
      "38      2\n",
      "39      1\n",
      "44      1\n",
      "37      1\n",
      "Name: level_number, dtype: int64\n"
     ]
    }
   ],
   "source": [
    "print(level_fail['level_number'].value_counts())"
   ]
  },
  {
   "cell_type": "markdown",
   "metadata": {},
   "source": [
    "## Verify if above Analysis is true by counting distinct players who failed at each level."
   ]
  },
  {
   "cell_type": "code",
   "execution_count": 7,
   "metadata": {},
   "outputs": [
    {
     "name": "stdout",
     "output_type": "stream",
     "text": [
      "Length of the cleaned data is:  4146\n"
     ]
    },
    {
     "data": {
      "text/html": [
       "<div>\n",
       "<style scoped>\n",
       "    .dataframe tbody tr th:only-of-type {\n",
       "        vertical-align: middle;\n",
       "    }\n",
       "\n",
       "    .dataframe tbody tr th {\n",
       "        vertical-align: top;\n",
       "    }\n",
       "\n",
       "    .dataframe thead th {\n",
       "        text-align: right;\n",
       "    }\n",
       "</style>\n",
       "<table border=\"1\" class=\"dataframe\">\n",
       "  <thead>\n",
       "    <tr style=\"text-align: right;\">\n",
       "      <th></th>\n",
       "      <th>player_id</th>\n",
       "      <th>level_number</th>\n",
       "    </tr>\n",
       "  </thead>\n",
       "  <tbody>\n",
       "    <tr>\n",
       "      <th>37</th>\n",
       "      <td>000948918c5ed8e1dd02e3c8fcbcae8e</td>\n",
       "      <td>4</td>\n",
       "    </tr>\n",
       "    <tr>\n",
       "      <th>47</th>\n",
       "      <td>005fde66a4f93e41b628fa76290fff6b</td>\n",
       "      <td>3</td>\n",
       "    </tr>\n",
       "    <tr>\n",
       "      <th>57</th>\n",
       "      <td>00b3c8d004f34341f938ce84bedc6cdd</td>\n",
       "      <td>4</td>\n",
       "    </tr>\n",
       "    <tr>\n",
       "      <th>71</th>\n",
       "      <td>0094f5714dd17f0f0f3f45b9cd40ed23</td>\n",
       "      <td>8</td>\n",
       "    </tr>\n",
       "    <tr>\n",
       "      <th>76</th>\n",
       "      <td>0035ff83e7e08d77a7808bd150147927</td>\n",
       "      <td>4</td>\n",
       "    </tr>\n",
       "  </tbody>\n",
       "</table>\n",
       "</div>"
      ],
      "text/plain": [
       "                           player_id  level_number\n",
       "37  000948918c5ed8e1dd02e3c8fcbcae8e             4\n",
       "47  005fde66a4f93e41b628fa76290fff6b             3\n",
       "57  00b3c8d004f34341f938ce84bedc6cdd             4\n",
       "71  0094f5714dd17f0f0f3f45b9cd40ed23             8\n",
       "76  0035ff83e7e08d77a7808bd150147927             4"
      ]
     },
     "execution_count": 7,
     "metadata": {},
     "output_type": "execute_result"
    }
   ],
   "source": [
    "# Pull only player_id and level_number from the dataframe.\n",
    "level_fail_cleaned = level_fail[['player_id', 'level_number']]\n",
    "print('Length of the cleaned data is: ', len(level_fail_cleaned))\n",
    "level_fail_cleaned.head()"
   ]
  },
  {
   "cell_type": "code",
   "execution_count": 8,
   "metadata": {},
   "outputs": [
    {
     "name": "stdout",
     "output_type": "stream",
     "text": [
      "Level at which most of the players failed:\n",
      " level_number      3\n",
      "player_count    687\n",
      "Name: 3, dtype: int64\n"
     ]
    },
    {
     "data": {
      "text/html": [
       "<div>\n",
       "<style scoped>\n",
       "    .dataframe tbody tr th:only-of-type {\n",
       "        vertical-align: middle;\n",
       "    }\n",
       "\n",
       "    .dataframe tbody tr th {\n",
       "        vertical-align: top;\n",
       "    }\n",
       "\n",
       "    .dataframe thead th {\n",
       "        text-align: right;\n",
       "    }\n",
       "</style>\n",
       "<table border=\"1\" class=\"dataframe\">\n",
       "  <thead>\n",
       "    <tr style=\"text-align: right;\">\n",
       "      <th></th>\n",
       "      <th>level_number</th>\n",
       "      <th>player_count</th>\n",
       "    </tr>\n",
       "  </thead>\n",
       "  <tbody>\n",
       "    <tr>\n",
       "      <th>3</th>\n",
       "      <td>3</td>\n",
       "      <td>687</td>\n",
       "    </tr>\n",
       "    <tr>\n",
       "      <th>5</th>\n",
       "      <td>5</td>\n",
       "      <td>396</td>\n",
       "    </tr>\n",
       "    <tr>\n",
       "      <th>4</th>\n",
       "      <td>4</td>\n",
       "      <td>382</td>\n",
       "    </tr>\n",
       "    <tr>\n",
       "      <th>6</th>\n",
       "      <td>6</td>\n",
       "      <td>303</td>\n",
       "    </tr>\n",
       "    <tr>\n",
       "      <th>7</th>\n",
       "      <td>7</td>\n",
       "      <td>197</td>\n",
       "    </tr>\n",
       "  </tbody>\n",
       "</table>\n",
       "</div>"
      ],
      "text/plain": [
       "   level_number  player_count\n",
       "3             3           687\n",
       "5             5           396\n",
       "4             4           382\n",
       "6             6           303\n",
       "7             7           197"
      ]
     },
     "execution_count": 8,
     "metadata": {},
     "output_type": "execute_result"
    }
   ],
   "source": [
    "# Distinct players failed per level\n",
    "results = level_fail_cleaned.groupby(by='level_number', as_index=False).agg(\n",
    "    {'player_id': pd.Series.nunique})\n",
    "results.columns = ['level_number', 'player_count']\n",
    "results = results.sort_values('player_count', ascending=False)\n",
    "print('Level at which most of the players failed:\\n', \n",
    "      results.sort_values('player_count', ascending=False).iloc[0])\n",
    "results.head()"
   ]
  },
  {
   "cell_type": "markdown",
   "metadata": {},
   "source": [
    "## Based on the above analysis, and the Graph shown below we can conclude that \n",
    "\n",
    "## Level 3 of this game is where most of the players tend to fail."
   ]
  },
  {
   "cell_type": "code",
   "execution_count": 9,
   "metadata": {},
   "outputs": [
    {
     "data": {
      "image/png": "[encoded data removed]",
      "text/plain": [
       "<Figure size 432x288 with 1 Axes>"
      ]
     },
     "metadata": {
      "needs_background": "light"
     },
     "output_type": "display_data"
    }
   ],
   "source": [
    "import matplotlib.pyplot as plt\n",
    "%matplotlib inline\n",
    "\n",
    "\n",
    "x = results['level_number']\n",
    "y = results['player_count']\n",
    "plt.bar(x, y, alpha=0.2)\n",
    "plt.xticks(x, [str(i) for i in x])\n",
    "plt.ylabel('Number of distinct players failed to clear')\n",
    "plt.xlabel('Level Number')\n",
    "plt.title('Levels of Game VS Count of Players')\n",
    "plt.tick_params(axis='x', which='major', labelsize=9)"
   ]
  }
 ],
 "metadata": {
  "kernelspec": {
   "display_name": "Python 3",
   "language": "python",
   "name": "python3"
  },
  "language_info": {
   "codemirror_mode": {
    "name": "ipython",
    "version": 3
   },
   "file_extension": ".py",
   "mimetype": "text/x-python",
   "name": "python",
   "nbconvert_exporter": "python",
   "pygments_lexer": "ipython3",
   "version": "3.7.6"
  }
 },
 "nbformat": 4,
 "nbformat_minor": 4
}
